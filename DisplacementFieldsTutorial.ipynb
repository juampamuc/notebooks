{
  "nbformat": 4,
  "nbformat_minor": 0,
  "metadata": {
    "colab": {
      "provenance": [],
      "collapsed_sections": [
        "t6QQpSE1z0-0",
        "x8u8zTOd87bO",
        "ozBlmVB5upPM",
        "Ji7x9UkV2Soy",
        "0j2z1_CA9Hoe",
        "a70HaWRhf9XB",
        "20FXRzmOge1Y",
        "cGUCfHQGh_c1",
        "FOSqMAOej84L",
        "PrHvSJQ6jL0U",
        "-w6aL8e4kqxS",
        "bo52Wd_UnqzW",
        "iJ7Q04B9oy7r",
        "wdo6bGmQp99i",
        "irrQS2A_qRTZ",
        "QzAyE_VXr_Qm",
        "c1yafYZ7D0sV",
        "Tg604fx3wOs1",
        "qK60GA_oYHCt",
        "zQwMuC_Xysal",
        "6EUO98tF74nG",
        "nbFhaHhcy_k8",
        "Xu_rKdQG4g2k",
        "WcKqhFyw5doy",
        "lqy4vHgS55FR",
        "7W3axUGl6YNB",
        "ZVKP005G6tao",
        "Otv3OebP7W6A"
      ],
      "include_colab_link": true
    },
    "kernelspec": {
      "name": "python3",
      "display_name": "Python 3"
    },
    "accelerator": "GPU"
  },
  "cells": [
    {
      "cell_type": "markdown",
      "metadata": {
        "id": "view-in-github",
        "colab_type": "text"
      },
      "source": [
        "<a href=\"https://colab.research.google.com/github/juampamuc/notebooks/blob/main/DisplacementFieldsTutorial.ipynb\" target=\"_parent\"><img src=\"https://colab.research.google.com/assets/colab-badge.svg\" alt=\"Open In Colab\"/></a>"
      ]
    },
    {
      "cell_type": "markdown",
      "metadata": {
        "id": "-cCg8cE9cBz5"
      },
      "source": [
        "# TorchFields Displacement Fields (Tutorial)\n",
        "Code is at https://github.com/seung-lab/torchfields"
      ]
    },
    {
      "cell_type": "code",
      "metadata": {
        "id": "ykJamIXEcK95"
      },
      "source": [
        "# install from PyPI\n",
        "!pip install torchfields"
      ],
      "execution_count": null,
      "outputs": []
    },
    {
      "cell_type": "code",
      "metadata": {
        "id": "B_lUIrvkb3WT"
      },
      "source": [
        "import torch\n",
        "import torchfields"
      ],
      "execution_count": null,
      "outputs": []
    },
    {
      "cell_type": "markdown",
      "metadata": {
        "id": "t6QQpSE1z0-0"
      },
      "source": [
        "### Introduction\n",
        "\n",
        "A **displacement field** represents a *mapping* or *flow* that indicates how an image should be warped.\n",
        "\n",
        "It is essentially a spatial tensor containing displacement vectors at each pixel, where each displacement vector indicates the displacement distance and direction at that pixel."
      ]
    },
    {
      "cell_type": "markdown",
      "metadata": {
        "id": "x8u8zTOd87bO"
      },
      "source": [
        "####Displacement field conventions"
      ]
    },
    {
      "cell_type": "markdown",
      "metadata": {
        "id": "ozBlmVB5upPM"
      },
      "source": [
        "#####Units\n",
        "\n",
        "The standard unit of displacement is a **half-image**, so a displacement vector of magnitude 2 means that the displacement distance is equal to the side length of the displaced image.\n",
        "\n",
        "**Note**: *This convention originates from the original [Spatial Transformer Networks](https://arxiv.org/abs/1506.02025) paper where such fields were presented as mappings, with -1 representing the left or top edge of the image, and +1 representing the right or bottom edge.*\n",
        "\n",
        "`torchfields` also supports seamlessly converting to and from units of **pixels** using the `pixels()` and `from_pixels()` functions."
      ]
    },
    {
      "cell_type": "markdown",
      "metadata": {
        "id": "Ji7x9UkV2Soy"
      },
      "source": [
        "#####Displacement direction\n",
        "\n",
        "The most common way to warp an image by a displacement field is by sampling from it at the points pointed to by the field vectors.\n",
        "This is often referred to as the **Eulerian** or **pull** convention, since the vectors in the field point to the locations from which the image should be *pulled*.\n",
        "This is achieved by calling the `sample()` function (which in fact wraps PyTorch's built-in `grid_sample()`, while converting the conventions as necessary).\n",
        "\n",
        "An alternative way to warp an image by a displacement field is by sending each pixel of the image along the corresponding displacement vector to its new location. This is referred to as the **Lagrangian** or **push** convention, since the vectors of the field indicate where an image pixel should be *pushed* to. This direction, while seemingly intuitive, is much less straight-forward to implement, since there is no definitive way to handle the discretization (for instance, what to do when the destinations are not whole pixel coordinates, when two sources map to the same destination, and when nothing maps into a destination pixel).\n",
        "The solution for warping in the Lagrangian direction is to **first invert the field** using `inverse()`, and then warp the image normally using `sample()`.\n",
        "\n",
        "\n",
        "\n",
        "*To read more about the two ways to describe flow fields, see the [Wikipedia article](https://en.wikipedia.org/wiki/Lagrangian_and_Eulerian_specification_of_the_flow_field) on the subject.*\n"
      ]
    },
    {
      "cell_type": "markdown",
      "metadata": {
        "id": "0j2z1_CA9Hoe"
      },
      "source": [
        "####Relationship to PyTorch tensors"
      ]
    },
    {
      "cell_type": "markdown",
      "metadata": {
        "id": "91qzcYpke6-i"
      },
      "source": [
        "Displacement fields inherit from `torch.Tensor`, so all functionality from [PyTorch](https://github.com/pytorch/pytorch) tensors also works with displacement fields. That is, any PyTorch function that accepts a `torch.Tensor` type will also implicitly accept a `torchfields` displacement field.\n",
        "\n",
        "Furthermore, the module installs itself (through monkey patching) as\n",
        "\n",
        "```python\n",
        "torch.Field\n",
        "```\n",
        "\n",
        "mirroring the `torch.Tensor` module, and all the functionality of the `torchfields` package can be conveniently accessed through that shortcut. This shortcut gets activated at the first import (using `import torchfields`).\n",
        "\n",
        "Note, however, that the `torchfields` package is neither endorsed by nor maintained by the PyTorch developer community, and is instead a separate project maintained by researchers at Princeton University."
      ]
    },
    {
      "cell_type": "markdown",
      "metadata": {
        "id": "a70HaWRhf9XB"
      },
      "source": [
        "### Creating a displacement field"
      ]
    },
    {
      "cell_type": "markdown",
      "metadata": {
        "id": "20FXRzmOge1Y"
      },
      "source": [
        "####Use the constructors in the `torch.Field` module:\n",
        "Note: displacement fields use components-first (N, C, H, W) convention: Batch, Component, Height, Width. This differs from PyTorch's components-last style."
      ]
    },
    {
      "cell_type": "code",
      "metadata": {
        "id": "0If28z9jgeQZ",
        "colab": {
          "base_uri": "https://localhost:8080/",
          "height": 238
        },
        "outputId": "95acd027-7b8b-4341-e126-0ac4b176eb50"
      },
      "source": [
        "torch.Field.ones(1, 2, 6, 6)"
      ],
      "execution_count": null,
      "outputs": [
        {
          "output_type": "execute_result",
          "data": {
            "text/plain": [
              "field([[[[1., 1., 1., 1., 1., 1.],\n",
              "         [1., 1., 1., 1., 1., 1.],\n",
              "         [1., 1., 1., 1., 1., 1.],\n",
              "         [1., 1., 1., 1., 1., 1.],\n",
              "         [1., 1., 1., 1., 1., 1.],\n",
              "         [1., 1., 1., 1., 1., 1.]],\n",
              "\n",
              "        [[1., 1., 1., 1., 1., 1.],\n",
              "         [1., 1., 1., 1., 1., 1.],\n",
              "         [1., 1., 1., 1., 1., 1.],\n",
              "         [1., 1., 1., 1., 1., 1.],\n",
              "         [1., 1., 1., 1., 1., 1.],\n",
              "         [1., 1., 1., 1., 1., 1.]]]])"
            ]
          },
          "metadata": {
            "tags": []
          },
          "execution_count": 4
        }
      ]
    },
    {
      "cell_type": "code",
      "metadata": {
        "id": "5pDuMhC5gqBo",
        "colab": {
          "base_uri": "https://localhost:8080/",
          "height": 238
        },
        "outputId": "35c8be1a-c1f2-46f9-fee3-1e81b95bf016"
      },
      "source": [
        "torch.Field.rand(1, 2, 6, 6)"
      ],
      "execution_count": null,
      "outputs": [
        {
          "output_type": "execute_result",
          "data": {
            "text/plain": [
              "field([[[[0.4616, 0.9541, 0.7272, 0.6175, 0.5921, 0.4985],\n",
              "         [0.6456, 0.0243, 0.5116, 0.6916, 0.2676, 0.3545],\n",
              "         [0.8433, 0.6543, 0.5121, 0.8890, 0.1163, 0.3141],\n",
              "         [0.9509, 0.7080, 0.7894, 0.3946, 0.3617, 0.6518],\n",
              "         [0.0883, 0.6312, 0.1495, 0.7442, 0.3647, 0.4240],\n",
              "         [0.7790, 0.8310, 0.5856, 0.7711, 0.4264, 0.0027]],\n",
              "\n",
              "        [[0.4752, 0.8364, 0.0815, 0.2460, 0.3089, 0.8083],\n",
              "         [0.3204, 0.3160, 0.0175, 0.3598, 0.1657, 0.2705],\n",
              "         [0.7358, 0.3510, 0.0710, 0.3868, 0.0375, 0.7734],\n",
              "         [0.7332, 0.8449, 0.6101, 0.5529, 0.8974, 0.1275],\n",
              "         [0.7798, 0.5496, 0.6459, 0.4966, 0.5648, 0.1528],\n",
              "         [0.5054, 0.6537, 0.9784, 0.8402, 0.7126, 0.8993]]]])"
            ]
          },
          "metadata": {
            "tags": []
          },
          "execution_count": 6
        }
      ]
    },
    {
      "cell_type": "code",
      "metadata": {
        "id": "6l9wSuGag_KA",
        "colab": {
          "base_uri": "https://localhost:8080/",
          "height": 136
        },
        "outputId": "81d4576b-4a15-40bf-a11e-3382fb7efdcf"
      },
      "source": [
        "f = torch.Field([[[[1, 2, 3],[4, 5, 6],[7, 8, 9]],\n",
        "                  [[-9, -8, -7],[-6, -5, -4],[-3, -2, -1]]]])\n",
        "f"
      ],
      "execution_count": null,
      "outputs": [
        {
          "output_type": "execute_result",
          "data": {
            "text/plain": [
              "field([[[[ 1.,  2.,  3.],\n",
              "         [ 4.,  5.,  6.],\n",
              "         [ 7.,  8.,  9.]],\n",
              "\n",
              "        [[-9., -8., -7.],\n",
              "         [-6., -5., -4.],\n",
              "         [-3., -2., -1.]]]])"
            ]
          },
          "metadata": {
            "tags": []
          },
          "execution_count": 7
        }
      ]
    },
    {
      "cell_type": "code",
      "metadata": {
        "id": "4Jamnuz9sZNO",
        "colab": {
          "base_uri": "https://localhost:8080/",
          "height": 238
        },
        "outputId": "987c5e7d-de97-4f7c-f8ba-f8fcfa2bf00c"
      },
      "source": [
        "torch.Field.identity(1, 2, 6, 6)  # zero displacements is an identity field"
      ],
      "execution_count": null,
      "outputs": [
        {
          "output_type": "execute_result",
          "data": {
            "text/plain": [
              "field([[[[0., 0., 0., 0., 0., 0.],\n",
              "         [0., 0., 0., 0., 0., 0.],\n",
              "         [0., 0., 0., 0., 0., 0.],\n",
              "         [0., 0., 0., 0., 0., 0.],\n",
              "         [0., 0., 0., 0., 0., 0.],\n",
              "         [0., 0., 0., 0., 0., 0.]],\n",
              "\n",
              "        [[0., 0., 0., 0., 0., 0.],\n",
              "         [0., 0., 0., 0., 0., 0.],\n",
              "         [0., 0., 0., 0., 0., 0.],\n",
              "         [0., 0., 0., 0., 0., 0.],\n",
              "         [0., 0., 0., 0., 0., 0.],\n",
              "         [0., 0., 0., 0., 0., 0.]]]])"
            ]
          },
          "metadata": {
            "tags": []
          },
          "execution_count": 8
        }
      ]
    },
    {
      "cell_type": "markdown",
      "metadata": {
        "id": "cGUCfHQGh_c1"
      },
      "source": [
        "####You can also convert any existing tensor to a field by calling `.field()` on it:"
      ]
    },
    {
      "cell_type": "code",
      "metadata": {
        "id": "uKcincvFg3B6",
        "colab": {
          "base_uri": "https://localhost:8080/",
          "height": 238
        },
        "outputId": "e40667b5-6264-4384-a1c8-f4d6767322e9"
      },
      "source": [
        "a = torch.rand(1, 2, 6, 6)\n",
        "a"
      ],
      "execution_count": null,
      "outputs": [
        {
          "output_type": "execute_result",
          "data": {
            "text/plain": [
              "tensor([[[[0.4065, 0.1321, 0.7876, 0.7317, 0.3430, 0.1206],\n",
              "          [0.2962, 0.7673, 0.6940, 0.5043, 0.6166, 0.8332],\n",
              "          [0.3441, 0.4853, 0.6605, 0.6527, 0.6786, 0.6222],\n",
              "          [0.4651, 0.9953, 0.9455, 0.8801, 0.6554, 0.1309],\n",
              "          [0.2437, 0.5897, 0.7963, 0.1170, 0.9619, 0.6979],\n",
              "          [0.0729, 0.0146, 0.3275, 0.0396, 0.1000, 0.2951]],\n",
              "\n",
              "         [[0.8077, 0.9556, 0.2999, 0.6975, 0.3303, 0.2774],\n",
              "          [0.3251, 0.9169, 0.8398, 0.4852, 0.7397, 0.4280],\n",
              "          [0.3678, 0.7021, 0.7684, 0.0921, 0.3886, 0.9668],\n",
              "          [0.7478, 0.9786, 0.2321, 0.5795, 0.6280, 0.1636],\n",
              "          [0.2739, 0.7973, 0.5463, 0.3019, 0.3901, 0.7897],\n",
              "          [0.2835, 0.0567, 0.1712, 0.7675, 0.9876, 0.9182]]]])"
            ]
          },
          "metadata": {
            "tags": []
          },
          "execution_count": 9
        }
      ]
    },
    {
      "cell_type": "code",
      "metadata": {
        "id": "D03zbJ0ziXF-",
        "colab": {
          "base_uri": "https://localhost:8080/",
          "height": 238
        },
        "outputId": "9cb97829-8796-44cb-9db5-26646ae8c62f"
      },
      "source": [
        "b = a.field()\n",
        "b"
      ],
      "execution_count": null,
      "outputs": [
        {
          "output_type": "execute_result",
          "data": {
            "text/plain": [
              "field([[[[0.4065, 0.1321, 0.7876, 0.7317, 0.3430, 0.1206],\n",
              "         [0.2962, 0.7673, 0.6940, 0.5043, 0.6166, 0.8332],\n",
              "         [0.3441, 0.4853, 0.6605, 0.6527, 0.6786, 0.6222],\n",
              "         [0.4651, 0.9953, 0.9455, 0.8801, 0.6554, 0.1309],\n",
              "         [0.2437, 0.5897, 0.7963, 0.1170, 0.9619, 0.6979],\n",
              "         [0.0729, 0.0146, 0.3275, 0.0396, 0.1000, 0.2951]],\n",
              "\n",
              "        [[0.8077, 0.9556, 0.2999, 0.6975, 0.3303, 0.2774],\n",
              "         [0.3251, 0.9169, 0.8398, 0.4852, 0.7397, 0.4280],\n",
              "         [0.3678, 0.7021, 0.7684, 0.0921, 0.3886, 0.9668],\n",
              "         [0.7478, 0.9786, 0.2321, 0.5795, 0.6280, 0.1636],\n",
              "         [0.2739, 0.7973, 0.5463, 0.3019, 0.3901, 0.7897],\n",
              "         [0.2835, 0.0567, 0.1712, 0.7675, 0.9876, 0.9182]]]])"
            ]
          },
          "metadata": {
            "tags": []
          },
          "execution_count": 10
        }
      ]
    },
    {
      "cell_type": "markdown",
      "metadata": {
        "id": "on0_6pExjAYd"
      },
      "source": [
        "Convert back to a tensor using `.tensor()`"
      ]
    },
    {
      "cell_type": "code",
      "metadata": {
        "id": "xSeBs6KpgVKP",
        "colab": {
          "base_uri": "https://localhost:8080/",
          "height": 238
        },
        "outputId": "2ca16fa5-f78e-4b99-a812-97fe349aa932"
      },
      "source": [
        "c = b.tensor()\n",
        "c"
      ],
      "execution_count": null,
      "outputs": [
        {
          "output_type": "execute_result",
          "data": {
            "text/plain": [
              "tensor([[[[0.4065, 0.1321, 0.7876, 0.7317, 0.3430, 0.1206],\n",
              "          [0.2962, 0.7673, 0.6940, 0.5043, 0.6166, 0.8332],\n",
              "          [0.3441, 0.4853, 0.6605, 0.6527, 0.6786, 0.6222],\n",
              "          [0.4651, 0.9953, 0.9455, 0.8801, 0.6554, 0.1309],\n",
              "          [0.2437, 0.5897, 0.7963, 0.1170, 0.9619, 0.6979],\n",
              "          [0.0729, 0.0146, 0.3275, 0.0396, 0.1000, 0.2951]],\n",
              "\n",
              "         [[0.8077, 0.9556, 0.2999, 0.6975, 0.3303, 0.2774],\n",
              "          [0.3251, 0.9169, 0.8398, 0.4852, 0.7397, 0.4280],\n",
              "          [0.3678, 0.7021, 0.7684, 0.0921, 0.3886, 0.9668],\n",
              "          [0.7478, 0.9786, 0.2321, 0.5795, 0.6280, 0.1636],\n",
              "          [0.2739, 0.7973, 0.5463, 0.3019, 0.3901, 0.7897],\n",
              "          [0.2835, 0.0567, 0.1712, 0.7675, 0.9876, 0.9182]]]])"
            ]
          },
          "metadata": {
            "tags": []
          },
          "execution_count": 11
        }
      ]
    },
    {
      "cell_type": "markdown",
      "metadata": {
        "id": "FOSqMAOej84L"
      },
      "source": [
        "###Using displacement fields"
      ]
    },
    {
      "cell_type": "markdown",
      "metadata": {
        "id": "PrHvSJQ6jL0U"
      },
      "source": [
        "####All tensor operations work as usual\n",
        "The resulting tensor will usually be a displacement field if possible"
      ]
    },
    {
      "cell_type": "code",
      "metadata": {
        "id": "gILtzevzjj-9",
        "colab": {
          "base_uri": "https://localhost:8080/",
          "height": 238
        },
        "outputId": "aa607d56-cc23-45c8-f79e-37d503d4a7e4"
      },
      "source": [
        "b = b + 3.14159\n",
        "\n",
        "d = b ** 2 - 4 * a * c\n",
        "d.sqrt()"
      ],
      "execution_count": null,
      "outputs": [
        {
          "output_type": "execute_result",
          "data": {
            "text/plain": [
              "field([[[[3.4537, 3.2630, 3.5996, 3.5862, 3.4164, 3.2533],\n",
              "         [3.3864, 3.5950, 3.5756, 3.5036, 3.5501, 3.6086],\n",
              "         [3.4171, 3.4946, 3.5652, 3.5627, 3.5710, 3.5521],\n",
              "         [3.4847, 3.6265, 3.6233, 3.6160, 3.5635, 3.2620],\n",
              "         [3.3500, 3.5400, 3.6015, 3.2502, 3.6246, 3.5768],\n",
              "         [3.2112, 3.1560, 3.4067, 3.1802, 3.2354, 3.3857]],\n",
              "\n",
              "        [[3.6038, 3.6241, 3.3888, 3.5767, 3.4085, 3.3737],\n",
              "         [3.4051, 3.6206, 3.6098, 3.4946, 3.5883, 3.4654],\n",
              "         [3.4315, 3.5780, 3.5953, 3.2284, 3.4436, 3.6249],\n",
              "         [3.5903, 3.6256, 3.3416, 3.5360, 3.5542, 3.2889],\n",
              "         [3.3713, 3.6017, 3.5223, 3.3902, 3.4445, 3.6001],\n",
              "         [3.3779, 3.1963, 3.2950, 3.5951, 3.6261, 3.6207]]]])"
            ]
          },
          "metadata": {
            "tags": []
          },
          "execution_count": 12
        }
      ]
    },
    {
      "cell_type": "code",
      "metadata": {
        "id": "mtSyy6E5le8i",
        "colab": {
          "base_uri": "https://localhost:8080/",
          "height": 34
        },
        "outputId": "3f9c2c44-5b9c-4c9e-d7a0-1faaa4797e1d"
      },
      "source": [
        "# when the result can not represent a field, it is returned as a normal tensor\n",
        "b.sum()"
      ],
      "execution_count": null,
      "outputs": [
        {
          "output_type": "execute_result",
          "data": {
            "text/plain": [
              "tensor(264.2018)"
            ]
          },
          "metadata": {
            "tags": []
          },
          "execution_count": 13
        }
      ]
    },
    {
      "cell_type": "markdown",
      "metadata": {
        "id": "-w6aL8e4kqxS"
      },
      "source": [
        "####Accessing components"
      ]
    },
    {
      "cell_type": "markdown",
      "metadata": {
        "id": "OQzG2WTpLxt_"
      },
      "source": [
        "Components can be accessed through `f.x`, `f.y`, `f.j`, and/or `f.i`."
      ]
    },
    {
      "cell_type": "code",
      "metadata": {
        "id": "jxw8SF6ElDlB",
        "colab": {
          "base_uri": "https://localhost:8080/",
          "height": 153
        },
        "outputId": "2527cbc5-6e6e-487a-a181-c66f27915761"
      },
      "source": [
        "# y represents the height component, x represents the width\n",
        "print('y = \\n{}'.format(f.y))\n",
        "print('x = \\n{}'.format(f.x))"
      ],
      "execution_count": null,
      "outputs": [
        {
          "output_type": "stream",
          "text": [
            "y = \n",
            "tensor([[[[-9., -8., -7.],\n",
            "          [-6., -5., -4.],\n",
            "          [-3., -2., -1.]]]])\n",
            "x = \n",
            "tensor([[[[1., 2., 3.],\n",
            "          [4., 5., 6.],\n",
            "          [7., 8., 9.]]]])\n"
          ],
          "name": "stdout"
        }
      ]
    },
    {
      "cell_type": "code",
      "metadata": {
        "id": "IUfzOjB8mTdo",
        "colab": {
          "base_uri": "https://localhost:8080/",
          "height": 153
        },
        "outputId": "10afd037-9e6d-4117-f75a-97ee89a8d651"
      },
      "source": [
        "# similarly, i represents the height component, j represents the width\n",
        "print('i = \\n{}'.format(f.i))\n",
        "print('j = \\n{}'.format(f.j))"
      ],
      "execution_count": null,
      "outputs": [
        {
          "output_type": "stream",
          "text": [
            "i = \n",
            "tensor([[[[-9., -8., -7.],\n",
            "          [-6., -5., -4.],\n",
            "          [-3., -2., -1.]]]])\n",
            "j = \n",
            "tensor([[[[1., 2., 3.],\n",
            "          [4., 5., 6.],\n",
            "          [7., 8., 9.]]]])\n"
          ],
          "name": "stdout"
        }
      ]
    },
    {
      "cell_type": "markdown",
      "metadata": {
        "id": "382n91ixLChI"
      },
      "source": [
        "Components can also be written to, as long as the shape of the tensor being written is compatible (or can be broadcasted)."
      ]
    },
    {
      "cell_type": "code",
      "metadata": {
        "id": "0vqQHfqzmkVQ",
        "colab": {
          "base_uri": "https://localhost:8080/",
          "height": 238
        },
        "outputId": "e9f0d323-5e09-4464-d10f-943f58592b1f"
      },
      "source": [
        "b.x = 0\n",
        "b"
      ],
      "execution_count": null,
      "outputs": [
        {
          "output_type": "execute_result",
          "data": {
            "text/plain": [
              "field([[[[0.0000, 0.0000, 0.0000, 0.0000, 0.0000, 0.0000],\n",
              "         [0.0000, 0.0000, 0.0000, 0.0000, 0.0000, 0.0000],\n",
              "         [0.0000, 0.0000, 0.0000, 0.0000, 0.0000, 0.0000],\n",
              "         [0.0000, 0.0000, 0.0000, 0.0000, 0.0000, 0.0000],\n",
              "         [0.0000, 0.0000, 0.0000, 0.0000, 0.0000, 0.0000],\n",
              "         [0.0000, 0.0000, 0.0000, 0.0000, 0.0000, 0.0000]],\n",
              "\n",
              "        [[3.9493, 4.0972, 3.4414, 3.8391, 3.4719, 3.4190],\n",
              "         [3.4666, 4.0585, 3.9814, 3.6268, 3.8813, 3.5696],\n",
              "         [3.5094, 3.8437, 3.9100, 3.2337, 3.5301, 4.1084],\n",
              "         [3.8894, 4.1201, 3.3737, 3.7211, 3.7696, 3.3051],\n",
              "         [3.4155, 3.9389, 3.6879, 3.4435, 3.5317, 3.9312],\n",
              "         [3.4251, 3.1983, 3.3127, 3.9091, 4.1292, 4.0597]]]])"
            ]
          },
          "metadata": {
            "tags": []
          },
          "execution_count": 16
        }
      ]
    },
    {
      "cell_type": "code",
      "metadata": {
        "id": "MgKEo7ILLee2",
        "colab": {
          "base_uri": "https://localhost:8080/",
          "height": 238
        },
        "outputId": "ee42975c-0aff-4fe9-acf2-6405dbabc750"
      },
      "source": [
        "b.x = b.y * 2\n",
        "b"
      ],
      "execution_count": null,
      "outputs": [
        {
          "output_type": "execute_result",
          "data": {
            "text/plain": [
              "field([[[[7.8986, 8.1944, 6.8829, 7.6782, 6.9438, 6.8380],\n",
              "         [6.9333, 8.1171, 7.9628, 7.2536, 7.7625, 7.1391],\n",
              "         [7.0189, 7.6875, 7.8200, 6.4673, 7.0603, 8.2168],\n",
              "         [7.7788, 8.2403, 6.7474, 7.4422, 7.5392, 6.6103],\n",
              "         [6.8310, 7.8778, 7.3759, 6.8870, 7.0635, 7.8625],\n",
              "         [6.8502, 6.3966, 6.6255, 7.8182, 8.2583, 8.1195]],\n",
              "\n",
              "        [[3.9493, 4.0972, 3.4414, 3.8391, 3.4719, 3.4190],\n",
              "         [3.4666, 4.0585, 3.9814, 3.6268, 3.8813, 3.5696],\n",
              "         [3.5094, 3.8437, 3.9100, 3.2337, 3.5301, 4.1084],\n",
              "         [3.8894, 4.1201, 3.3737, 3.7211, 3.7696, 3.3051],\n",
              "         [3.4155, 3.9389, 3.6879, 3.4435, 3.5317, 3.9312],\n",
              "         [3.4251, 3.1983, 3.3127, 3.9091, 4.1292, 4.0597]]]])"
            ]
          },
          "metadata": {
            "tags": []
          },
          "execution_count": 17
        }
      ]
    },
    {
      "cell_type": "markdown",
      "metadata": {
        "id": "bo52Wd_UnqzW"
      },
      "source": [
        "####Upsampling and downsampling"
      ]
    },
    {
      "cell_type": "code",
      "metadata": {
        "id": "svh6p4V8oJ4s",
        "colab": {
          "base_uri": "https://localhost:8080/",
          "height": 255
        },
        "outputId": "6bc02aaf-a1d5-44aa-97c6-1475b329f8bf"
      },
      "source": [
        "print(f.up().shape)\n",
        "f.up()"
      ],
      "execution_count": null,
      "outputs": [
        {
          "output_type": "stream",
          "text": [
            "torch.Size([1, 2, 6, 6])\n"
          ],
          "name": "stdout"
        },
        {
          "output_type": "execute_result",
          "data": {
            "text/plain": [
              "field([[[[ 1.0000,  1.2500,  1.7500,  2.2500,  2.7500,  3.0000],\n",
              "         [ 1.7500,  2.0000,  2.5000,  3.0000,  3.5000,  3.7500],\n",
              "         [ 3.2500,  3.5000,  4.0000,  4.5000,  5.0000,  5.2500],\n",
              "         [ 4.7500,  5.0000,  5.5000,  6.0000,  6.5000,  6.7500],\n",
              "         [ 6.2500,  6.5000,  7.0000,  7.5000,  8.0000,  8.2500],\n",
              "         [ 7.0000,  7.2500,  7.7500,  8.2500,  8.7500,  9.0000]],\n",
              "\n",
              "        [[-9.0000, -8.7500, -8.2500, -7.7500, -7.2500, -7.0000],\n",
              "         [-8.2500, -8.0000, -7.5000, -7.0000, -6.5000, -6.2500],\n",
              "         [-6.7500, -6.5000, -6.0000, -5.5000, -5.0000, -4.7500],\n",
              "         [-5.2500, -5.0000, -4.5000, -4.0000, -3.5000, -3.2500],\n",
              "         [-3.7500, -3.5000, -3.0000, -2.5000, -2.0000, -1.7500],\n",
              "         [-3.0000, -2.7500, -2.2500, -1.7500, -1.2500, -1.0000]]]])"
            ]
          },
          "metadata": {
            "tags": []
          },
          "execution_count": 18
        }
      ]
    },
    {
      "cell_type": "code",
      "metadata": {
        "id": "Hs-oB5f_oM88",
        "colab": {
          "base_uri": "https://localhost:8080/",
          "height": 85
        },
        "outputId": "1fc9a50b-319e-4b82-e372-f461ec29f4ef"
      },
      "source": [
        "print(f.down().shape)\n",
        "f.down()"
      ],
      "execution_count": null,
      "outputs": [
        {
          "output_type": "stream",
          "text": [
            "torch.Size([1, 2, 1, 1])\n"
          ],
          "name": "stdout"
        },
        {
          "output_type": "execute_result",
          "data": {
            "text/plain": [
              "field([[[[ 1.]],\n",
              "\n",
              "        [[-9.]]]])"
            ]
          },
          "metadata": {
            "tags": []
          },
          "execution_count": 19
        }
      ]
    },
    {
      "cell_type": "code",
      "metadata": {
        "id": "2mmd6-euoPGk",
        "colab": {
          "base_uri": "https://localhost:8080/",
          "height": 34
        },
        "outputId": "d4231dd8-705f-49f8-b589-96108ac443fa"
      },
      "source": [
        "f.up(3).shape"
      ],
      "execution_count": null,
      "outputs": [
        {
          "output_type": "execute_result",
          "data": {
            "text/plain": [
              "torch.Size([1, 2, 24, 24])"
            ]
          },
          "metadata": {
            "tags": []
          },
          "execution_count": 20
        }
      ]
    },
    {
      "cell_type": "markdown",
      "metadata": {
        "id": "iJ7Q04B9oy7r"
      },
      "source": [
        "####Sampling from a tensor (warping in the pull direction)"
      ]
    },
    {
      "cell_type": "markdown",
      "metadata": {
        "id": "lyp_EiKbKgBW"
      },
      "source": [
        "*See the introduction for details about warping in the pull direction.*"
      ]
    },
    {
      "cell_type": "code",
      "metadata": {
        "id": "02K14RMNo5u1",
        "colab": {
          "base_uri": "https://localhost:8080/",
          "height": 119
        },
        "outputId": "4b6ba0e6-80bf-4599-f7b3-baca6b3b3723"
      },
      "source": [
        "f = torch.Field.rand_in_bounds(1, 2, 6, 6)  # displacement field\n",
        "t = torch.rand(6, 6)  # standard tensor (image)\n",
        "\n",
        "f(t) # sample/warp t using f"
      ],
      "execution_count": null,
      "outputs": [
        {
          "output_type": "execute_result",
          "data": {
            "text/plain": [
              "tensor([[0.3176, 0.7106, 0.5275, 0.3490, 0.3640, 0.6157],\n",
              "        [0.4839, 0.3038, 0.4060, 0.4984, 0.4369, 0.4269],\n",
              "        [0.3304, 0.3394, 0.2389, 0.4342, 0.2216, 0.2328],\n",
              "        [0.7038, 0.3373, 0.3967, 0.3647, 0.4197, 0.2338],\n",
              "        [0.6142, 0.4829, 0.4754, 0.2673, 0.4125, 0.7550],\n",
              "        [0.2746, 0.1553, 0.3739, 0.1933, 0.2845, 0.4199]])"
            ]
          },
          "metadata": {
            "tags": []
          },
          "execution_count": 21
        }
      ]
    },
    {
      "cell_type": "markdown",
      "metadata": {
        "id": "hGuT3eooyEUt"
      },
      "source": [
        "*Note: `rand_in_bounds()` produces a random field where every displacement is uniform within the bounds of the image*\n",
        "\n",
        "*(unlike `rand()` which is uniform between 0 and 1)*"
      ]
    },
    {
      "cell_type": "markdown",
      "metadata": {
        "id": "wdo6bGmQp99i"
      },
      "source": [
        "####Composing displacement fields"
      ]
    },
    {
      "cell_type": "markdown",
      "metadata": {
        "id": "uNQPBfWQKHHS"
      },
      "source": [
        "If `f = self` and `g = other`, then this computes\n",
        "`f⚬g` such that `(f⚬g)(x) ~= f(g(x))` for any tensor `x`.\n",
        "\n",
        "The reason this is only an approximate equivalence is because when\n",
        "sampling twice, information is inevitably lost in the intermediate\n",
        "stage. Sampling with the composed field is therefore more precise."
      ]
    },
    {
      "cell_type": "code",
      "metadata": {
        "id": "d0Z4inXvqAm5",
        "colab": {
          "base_uri": "https://localhost:8080/",
          "height": 238
        },
        "outputId": "f35304aa-a395-4f66-8db0-b5d39bdae308"
      },
      "source": [
        "f = torch.Field.rand_in_bounds(1, 2, 6, 6)  # 1st displacement field\n",
        "g = torch.Field.rand_in_bounds(1, 2, 6, 6)  # 2nd displacement field\n",
        "\n",
        "f(g) # compose f and g"
      ],
      "execution_count": null,
      "outputs": [
        {
          "output_type": "execute_result",
          "data": {
            "text/plain": [
              "field([[[[ 0.6188,  0.2368,  0.5751, -0.1810, -0.7996, -0.9854],\n",
              "         [ 0.4175,  0.1801, -0.2130, -0.4277, -0.6523, -0.9868],\n",
              "         [ 0.2244,  0.7480, -0.0488, -0.2625, -0.6683, -1.4701],\n",
              "         [ 0.5988, -0.0387, -0.0475, -0.6210, -0.5621, -0.8203],\n",
              "         [ 0.7709,  0.5876, -0.2458, -0.4060, -0.6600, -0.5583],\n",
              "         [ 0.7611,  0.2142, -0.6148, -0.5750, -1.1543, -1.4504]],\n",
              "\n",
              "        [[ 0.9039,  0.4102,  1.2294,  0.4029,  0.9111,  0.9365],\n",
              "         [ 0.7506,  0.8629, -0.3230,  0.5012, -0.2283, -0.1706],\n",
              "         [ 0.0394, -0.3213,  0.4567,  0.7697,  0.8660, -0.3702],\n",
              "         [-0.1857,  0.0460, -0.4735,  0.0242, -0.1843, -0.1336],\n",
              "         [-0.3366, -1.1038,  0.0488, -0.8333, -0.9680, -1.0658],\n",
              "         [-0.7263, -0.8102, -0.5722, -0.9902, -0.7054, -0.4885]]]])"
            ]
          },
          "metadata": {
            "tags": []
          },
          "execution_count": 22
        }
      ]
    },
    {
      "cell_type": "markdown",
      "metadata": {
        "id": "irrQS2A_qRTZ"
      },
      "source": [
        "####Sampling vs. Composing\n",
        "Note that the difference between sampling and composing is the type of the tensor sampled.\n",
        "\n",
        "```\n",
        "field(tensor) --> tensor # sample\n",
        "```\n",
        "\n",
        "```\n",
        "field(field) --> field # compose\n",
        "```\n",
        "\n",
        "The difference between the operations is wherther the sampling result gets added to the sampler field afterwords.\n",
        "\n",
        "\n",
        "If you prefer to be explicit, you can use the functions:"
      ]
    },
    {
      "cell_type": "code",
      "metadata": {
        "id": "iFfHKRU4qOgv"
      },
      "source": [
        "f.sample(t)\n",
        "f.compose_with(g)"
      ],
      "execution_count": null,
      "outputs": []
    },
    {
      "cell_type": "markdown",
      "metadata": {
        "id": "QzAyE_VXr_Qm"
      },
      "source": [
        "####Inverting displacement fields"
      ]
    },
    {
      "cell_type": "markdown",
      "metadata": {
        "id": "stTOcUbGsH22"
      },
      "source": [
        "Given a displacement field `f`, its left inverse is a displacement\n",
        "field `g` such that\n",
        "`g(f) ≈ identity`\n",
        "\n",
        "Currently, only left inverses are supported."
      ]
    },
    {
      "cell_type": "code",
      "metadata": {
        "id": "1pbM4YvZsD0M",
        "colab": {
          "base_uri": "https://localhost:8080/",
          "height": 204
        },
        "outputId": "6801ffed-7448-4ef0-e981-ebfe687c9149"
      },
      "source": [
        "f = ((torch.Field.rand(1,2,5,5)*2 - 1)/5)  # random invertible field\n",
        "f"
      ],
      "execution_count": null,
      "outputs": [
        {
          "output_type": "execute_result",
          "data": {
            "text/plain": [
              "field([[[[-0.0408, -0.1398,  0.0012,  0.1960,  0.1081],\n",
              "         [ 0.0142, -0.0518,  0.1951, -0.1244,  0.0817],\n",
              "         [ 0.0481,  0.0810, -0.0622, -0.0227, -0.1366],\n",
              "         [ 0.0302,  0.1936,  0.1351,  0.1755,  0.0705],\n",
              "         [-0.0640,  0.0106, -0.1321,  0.0531,  0.0253]],\n",
              "\n",
              "        [[-0.0333,  0.1179,  0.0769, -0.0027,  0.0487],\n",
              "         [ 0.1203,  0.1175,  0.0855, -0.0591,  0.0703],\n",
              "         [-0.0922,  0.1612, -0.0957,  0.0580,  0.0133],\n",
              "         [-0.0309,  0.0813,  0.0668,  0.1433, -0.1731],\n",
              "         [-0.1089,  0.0075, -0.1568, -0.0023,  0.1979]]]])"
            ]
          },
          "metadata": {
            "tags": []
          },
          "execution_count": 24
        }
      ]
    },
    {
      "cell_type": "code",
      "metadata": {
        "id": "tv3lYLvQt0Ac",
        "colab": {
          "base_uri": "https://localhost:8080/",
          "height": 204
        },
        "outputId": "900b8718-5ebe-48cd-e756-2547c9c467c3"
      },
      "source": [
        "g = ~f  # invert f\n",
        "g"
      ],
      "execution_count": null,
      "outputs": [
        {
          "output_type": "execute_result",
          "data": {
            "text/plain": [
              "field([[[[ 0.0522,  0.1034, -0.0009, -0.1318, -0.1385],\n",
              "         [-0.0022,  0.0497, -0.0968,  0.0804, -0.0597],\n",
              "         [-0.0445, -0.0374,  0.0294,  0.0419,  0.1281],\n",
              "         [-0.0212, -0.1314, -0.1289, -0.1166, -0.0821],\n",
              "         [ 0.0539, -0.0109,  0.0903, -0.0363, -0.0413]],\n",
              "\n",
              "        [[ 0.0102, -0.1073, -0.0770, -0.0235, -0.0309],\n",
              "         [-0.0869, -0.1133, -0.0918,  0.0275, -0.0497],\n",
              "         [ 0.0799, -0.1310,  0.0606, -0.0427, -0.0155],\n",
              "         [ 0.0383, -0.0485, -0.0590, -0.0953,  0.0651],\n",
              "         [ 0.0932, -0.0053,  0.1219,  0.0164, -0.0988]]]])"
            ]
          },
          "metadata": {
            "tags": []
          },
          "execution_count": 25
        }
      ]
    },
    {
      "cell_type": "code",
      "metadata": {
        "id": "Px2qk7THvUsc",
        "colab": {
          "base_uri": "https://localhost:8080/",
          "height": 204
        },
        "outputId": "f4581292-bf13-4f42-c5ae-91f7596da1ed"
      },
      "source": [
        "# Check that g is indeed the left inverse:\n",
        "g(f)  # should be nearly 0 (identity displacement field)"
      ],
      "execution_count": null,
      "outputs": [
        {
          "output_type": "execute_result",
          "data": {
            "text/plain": [
              "field([[[[ 7.4506e-09,  0.0000e+00,  8.3237e-09,  0.0000e+00, -2.9802e-08],\n",
              "         [-2.0955e-09,  1.1176e-08,  0.0000e+00,  0.0000e+00,  1.1176e-08],\n",
              "         [-3.7253e-09,  7.4506e-09, -2.0489e-08, -7.4506e-09,  2.9802e-08],\n",
              "         [-2.7940e-08,  0.0000e+00, -1.4901e-08, -4.4703e-08, -7.4506e-09],\n",
              "         [-3.7253e-09,  1.9558e-08,  7.4506e-09,  2.6077e-08, -7.4506e-09]],\n",
              "\n",
              "        [[-3.0734e-08,  0.0000e+00,  0.0000e+00,  5.5879e-09,  1.1176e-08],\n",
              "         [-1.4901e-08, -7.4506e-09, -1.4901e-08, -7.4506e-09,  2.6077e-08],\n",
              "         [ 7.4506e-09, -1.4901e-08, -3.7253e-09, -2.2352e-08,  5.5879e-09],\n",
              "         [-2.6077e-08, -2.2352e-08, -7.4506e-09, -3.7253e-08, -4.4703e-08],\n",
              "         [ 0.0000e+00, -7.4506e-09,  7.4506e-09,  1.8626e-08,  0.0000e+00]]]])"
            ]
          },
          "metadata": {
            "tags": []
          },
          "execution_count": 26
        }
      ]
    },
    {
      "cell_type": "code",
      "metadata": {
        "id": "YOO0VdoLvqN4",
        "colab": {
          "base_uri": "https://localhost:8080/",
          "height": 204
        },
        "outputId": "cf069a6a-0841-49d8-b0b0-78a2ec343a07"
      },
      "source": [
        "# Note that this is NOT a symmetric inverse\n",
        "f(g)  # will in general not be 0"
      ],
      "execution_count": null,
      "outputs": [
        {
          "output_type": "execute_result",
          "data": {
            "text/plain": [
              "field([[[[ 0.0114, -0.0702, -0.0183,  0.0609, -0.0208],\n",
              "         [ 0.0006, -0.0327,  0.1945, -0.1163,  0.0550],\n",
              "         [ 0.0154,  0.0139, -0.0654, -0.0045, -0.0443],\n",
              "         [-0.0004,  0.0976,  0.0392,  0.0966,  0.0793],\n",
              "         [-0.0305,  0.0023, -0.1484,  0.0157, -0.0160]],\n",
              "\n",
              "        [[-0.0232,  0.0405, -0.0027, -0.0298,  0.0155],\n",
              "         [ 0.0807,  0.0094,  0.0613, -0.0732,  0.0265],\n",
              "         [-0.0710,  0.0857, -0.0950,  0.0129, -0.0103],\n",
              "         [ 0.0034,  0.0501,  0.0218,  0.1151, -0.1429],\n",
              "         [-0.0307,  0.0056, -0.1300, -0.0017,  0.0991]]]])"
            ]
          },
          "metadata": {
            "tags": []
          },
          "execution_count": 27
        }
      ]
    },
    {
      "cell_type": "markdown",
      "metadata": {
        "id": "tWPfnw3SEkWC"
      },
      "source": [
        "Note: the notation `~f` is sugarcoating for `f.inverse()` and `f.linverse()` (**l**eft **inverse**). Right inverse (`f.rinverse()`) is not yet implemented."
      ]
    },
    {
      "cell_type": "markdown",
      "metadata": {
        "id": "c1yafYZ7D0sV"
      },
      "source": [
        "####Warping in the push direction"
      ]
    },
    {
      "cell_type": "markdown",
      "metadata": {
        "id": "PwJZTzgvFc2a"
      },
      "source": [
        "*See the introduction section for an explanation of push vs. pull direction.*"
      ]
    },
    {
      "cell_type": "code",
      "metadata": {
        "id": "LEqDAMM3ERw4",
        "colab": {
          "base_uri": "https://localhost:8080/",
          "height": 119
        },
        "outputId": "42e63f86-b071-4a79-c739-57241df5aede"
      },
      "source": [
        "f = ((torch.Field.rand(1,2,6,6)*2 - 1)/6)  # displacement field\n",
        "t = torch.rand(6, 6)  # standard tensor (image)\n",
        "\n",
        "(~f)(t) # sample/warp t using the inverse of f"
      ],
      "execution_count": null,
      "outputs": [
        {
          "output_type": "execute_result",
          "data": {
            "text/plain": [
              "tensor([[0.6235, 0.7382, 0.7422, 0.5877, 0.4953, 0.1981],\n",
              "        [0.6548, 0.2430, 0.3789, 0.6604, 0.4975, 0.7044],\n",
              "        [0.5387, 0.1962, 0.5690, 0.4790, 0.2799, 0.2579],\n",
              "        [0.1706, 0.3897, 0.7233, 0.3360, 0.7804, 0.5219],\n",
              "        [0.3897, 0.2337, 0.5791, 0.6229, 0.5196, 0.2676],\n",
              "        [0.5913, 0.6273, 0.9216, 0.7526, 0.3124, 0.1742]])"
            ]
          },
          "metadata": {
            "tags": []
          },
          "execution_count": 30
        }
      ]
    },
    {
      "cell_type": "markdown",
      "metadata": {
        "id": "hV_sWR8BEc1S"
      },
      "source": [
        "Note that because of operator precedence, `(~f)(t)` is **not** the same as `~f(t)`, which instead applies `f` and then attempts inverting."
      ]
    },
    {
      "cell_type": "markdown",
      "metadata": {
        "id": "Tg604fx3wOs1"
      },
      "source": [
        "####Vector voting\n",
        "Displacement fields with an odd batch dimension can be vector voted, which results in a single \"consensus\" displacement field.\n",
        "\n",
        "The resulting displacement field represents displacements that are\n",
        "*closest to the most consistent majority of the fields*.\n",
        "This effectively allows the fields to differentiably vote on the\n",
        "displacement that is most likely to be correct."
      ]
    },
    {
      "cell_type": "code",
      "metadata": {
        "id": "TxexJvo6wVGz",
        "colab": {
          "base_uri": "https://localhost:8080/",
          "height": 255
        },
        "outputId": "6e62ff7b-667a-4497-f076-2d54688f812f"
      },
      "source": [
        "f = torch.Field.rand_in_bounds(5,2,6,6, device='cuda')  # Batch dimension is 5\n",
        "\n",
        "f.vote()"
      ],
      "execution_count": null,
      "outputs": [
        {
          "output_type": "execute_result",
          "data": {
            "text/plain": [
              "field([[[[ 0.7726,  0.8517,  0.2614,  0.3405, -0.2931, -0.6831],\n",
              "         [ 0.9881,  0.7743, -0.1153,  0.0435, -0.6984, -0.6532],\n",
              "         [ 0.5689,  0.2401,  0.1460,  0.0426, -0.8019, -0.8366],\n",
              "         [ 0.5908,  0.1173,  0.3761, -0.6601, -0.1659, -0.8302],\n",
              "         [ 0.5756,  0.7414, -0.0131,  0.0265, -0.2940, -1.0565],\n",
              "         [ 1.4751,  0.6341, -0.2437, -0.1273, -0.6045, -0.4972]],\n",
              "\n",
              "        [[ 1.1442,  1.0172,  1.0643,  0.6861,  0.3860,  0.8277],\n",
              "         [ 0.5192,  1.0932,  0.8383,  0.4157,  0.5336,  0.9558],\n",
              "         [ 0.1950,  0.2355,  0.1511,  0.4217,  0.3824,  0.0196],\n",
              "         [-0.1342, -0.0479,  0.0853, -0.0189,  0.1213,  0.1688],\n",
              "         [-0.6701, -0.8712, -0.0311, -0.5856, -0.2771, -0.9395],\n",
              "         [-0.5604, -1.5009, -0.6821, -0.5903, -1.1338, -1.0340]]]],\n",
              "      device='cuda:0')"
            ]
          },
          "metadata": {
            "tags": []
          },
          "execution_count": 31
        }
      ]
    },
    {
      "cell_type": "markdown",
      "metadata": {
        "id": "qK60GA_oYHCt"
      },
      "source": [
        "###Using `torchfields` as a Spatial Transformer"
      ]
    },
    {
      "cell_type": "markdown",
      "metadata": {
        "id": "fqW6Hy-XY__h"
      },
      "source": [
        "Implementing [Spatial Transformer Networks](https://arxiv.org/abs/1506.02025) often involves\n",
        "\n",
        "1.   generating an affiine matrix via a localization network\n",
        "2.   creating a mapping or displacement field using that affine matrix\n",
        "3.   transforming the input using that mapping or displacement field\n",
        "\n",
        "This can all be done easily with `torchfields`."
      ]
    },
    {
      "cell_type": "code",
      "metadata": {
        "id": "qgKk-VZw3_Rf",
        "colab": {
          "base_uri": "https://localhost:8080/",
          "height": 119
        },
        "outputId": "abb3212e-cd13-4ad7-863d-09515f941e04"
      },
      "source": [
        "# affine matrix (usually from a localization network)\n",
        "aff = torch.tensor([[[1, .2, 0.05], [-.2, 1, 0.05]]])\n",
        "\n",
        "# create a displacement field with the affine matrix\n",
        "df = torch.Field.affine_field(aff, size=(1, 2, 6, 6))\n",
        "\n",
        "# the input to the Spatial Transformer Network\n",
        "image = torch.rand(6, 6)\n",
        "\n",
        "# transform/warp the image\n",
        "df(image)"
      ],
      "execution_count": null,
      "outputs": [
        {
          "output_type": "execute_result",
          "data": {
            "text/plain": [
              "tensor([[0.3336, 0.4686, 0.2157, 0.3352, 0.1887, 0.0677],\n",
              "        [0.3302, 0.1815, 0.2528, 0.2539, 0.3857, 0.1796],\n",
              "        [0.5743, 0.5160, 0.6729, 0.8931, 0.1160, 0.4142],\n",
              "        [0.4657, 0.7841, 0.2826, 0.3559, 0.7124, 0.3420],\n",
              "        [0.5616, 0.6798, 0.6408, 0.4864, 0.2958, 0.2282],\n",
              "        [0.2246, 0.3167, 0.2617, 0.3638, 0.2209, 0.0697]])"
            ]
          },
          "metadata": {
            "tags": []
          },
          "execution_count": 4
        }
      ]
    },
    {
      "cell_type": "markdown",
      "metadata": {
        "id": "bNyGDe88YvO1"
      },
      "source": [
        "One of the main advantages that `torchfields` has on other spatial transformer implementations is the flexibility it gives you in deviating from this standard spatial transformer pattern and exploring other ways of manipulating and using displacement fields.\n",
        "\n",
        "In particular, it makes it very easy to predict the displacement field directly using a convolutional neural network. Just call `.field()` on the tensor output of the network to convert it into a displacement field, and then use it with the `torchfields` library."
      ]
    },
    {
      "cell_type": "markdown",
      "metadata": {
        "id": "zQwMuC_Xysal"
      },
      "source": [
        "###Other useful functionality"
      ]
    },
    {
      "cell_type": "markdown",
      "metadata": {
        "id": "6EUO98tF74nG"
      },
      "source": [
        "####Additional constructors"
      ]
    },
    {
      "cell_type": "code",
      "metadata": {
        "id": "wisl_MDN78PT"
      },
      "source": [
        "f = torch.Field.rand(1, 2, 6 , 6)\n",
        "\n",
        "f = torch.Field.identity(1, 2, 6 , 6)  # equivalently, zeros()\n",
        "\n",
        "f = torch.Field.ones(1, 2, 6 , 6)\n",
        "\n",
        "f = torch.Field.rand_in_bounds(1, 2, 6 , 6)\n",
        "\n",
        "f = torch.Field.identity_mapping((1, 2, 6 , 6))\n",
        "\n",
        "f = torch.Field.affine_field(aff=[[1, .2, 0.05], [-.2, 1, 0.05]],\n",
        "                             size=(1, 2, 6 , 6))"
      ],
      "execution_count": null,
      "outputs": []
    },
    {
      "cell_type": "markdown",
      "metadata": {
        "id": "pr0P3wDZ9G7H"
      },
      "source": [
        "*Note: all existing constructors for standard torch tensors also work from `torch.Field` to create a field.*"
      ]
    },
    {
      "cell_type": "markdown",
      "metadata": {
        "id": "nbFhaHhcy_k8"
      },
      "source": [
        "####Checking for identity"
      ]
    },
    {
      "cell_type": "code",
      "metadata": {
        "id": "atDXhpluyxsZ",
        "colab": {
          "base_uri": "https://localhost:8080/",
          "height": 238
        },
        "outputId": "ff43e21c-baa2-4c0b-f230-c30541d9596d"
      },
      "source": [
        "f = torch.Field.rand(1, 2, 6 , 6)\n",
        "f"
      ],
      "execution_count": null,
      "outputs": [
        {
          "output_type": "execute_result",
          "data": {
            "text/plain": [
              "field([[[[0.7372, 0.2464, 0.6632, 0.6378, 0.3740, 0.5547],\n",
              "         [0.1505, 0.8283, 0.1298, 0.2353, 0.2703, 0.3437],\n",
              "         [0.2316, 0.8066, 0.6849, 0.2448, 0.6685, 0.2887],\n",
              "         [0.2045, 0.0280, 0.3353, 0.3449, 0.5845, 0.4011],\n",
              "         [0.9524, 0.4418, 0.9350, 0.8225, 0.5980, 0.9538],\n",
              "         [0.7620, 0.4248, 0.5860, 0.0777, 0.2310, 0.4457]],\n",
              "\n",
              "        [[0.4102, 0.2099, 0.4559, 0.3736, 0.6101, 0.3916],\n",
              "         [0.3108, 0.1592, 0.8678, 0.5835, 0.0081, 0.1877],\n",
              "         [0.4867, 0.0794, 0.7938, 0.5132, 0.3767, 0.7185],\n",
              "         [0.4666, 0.8092, 0.4753, 0.5720, 0.7894, 0.1383],\n",
              "         [0.1606, 0.4494, 0.6898, 0.4557, 0.4205, 0.5092],\n",
              "         [0.0258, 0.2097, 0.4056, 0.6206, 0.7484, 0.0410]]]])"
            ]
          },
          "metadata": {
            "tags": []
          },
          "execution_count": 6
        }
      ]
    },
    {
      "cell_type": "code",
      "metadata": {
        "id": "--zbEd7QzRd7",
        "colab": {
          "base_uri": "https://localhost:8080/",
          "height": 34
        },
        "outputId": "ea15028c-7c49-40ae-dfab-71acefd96c66"
      },
      "source": [
        "f.is_identity()"
      ],
      "execution_count": null,
      "outputs": [
        {
          "output_type": "execute_result",
          "data": {
            "text/plain": [
              "tensor(0, dtype=torch.uint8)"
            ]
          },
          "metadata": {
            "tags": []
          },
          "execution_count": 7
        }
      ]
    },
    {
      "cell_type": "code",
      "metadata": {
        "id": "FAPPE0C2zUw8",
        "colab": {
          "base_uri": "https://localhost:8080/",
          "height": 34
        },
        "outputId": "0bbc3d92-ae4d-41b7-f0a0-6dbd0e8a8507"
      },
      "source": [
        "g = f.identity()  # produces an identity field of same dimensions and type\n",
        "g.is_identity()"
      ],
      "execution_count": null,
      "outputs": [
        {
          "output_type": "execute_result",
          "data": {
            "text/plain": [
              "tensor(1, dtype=torch.uint8)"
            ]
          },
          "metadata": {
            "tags": []
          },
          "execution_count": 8
        }
      ]
    },
    {
      "cell_type": "code",
      "metadata": {
        "id": "EgRKydI72rtO",
        "colab": {
          "base_uri": "https://localhost:8080/",
          "height": 34
        },
        "outputId": "144b71bf-c0b5-4220-b8e8-e54bbab3d0d6"
      },
      "source": [
        "f = torch.Field.rand(1, 2, 6 , 6)\n",
        "f *= ((.2 + .1) - .3)  # set to zero with rounding error\n",
        "f.is_identity(eps=1e-7)  # allow an epsilon tolerance for rounding error"
      ],
      "execution_count": null,
      "outputs": [
        {
          "output_type": "execute_result",
          "data": {
            "text/plain": [
              "tensor(1, dtype=torch.uint8)"
            ]
          },
          "metadata": {
            "tags": []
          },
          "execution_count": 9
        }
      ]
    },
    {
      "cell_type": "code",
      "metadata": {
        "id": "ZPEfr6g-4lro",
        "colab": {
          "base_uri": "https://localhost:8080/",
          "height": 34
        },
        "outputId": "66fed95d-85a0-4460-b4e3-8bda3531ae40"
      },
      "source": [
        "f.is_identity(magn_eps=1e-7)  # allow an epsilon tolerance for vector magnitudes"
      ],
      "execution_count": null,
      "outputs": [
        {
          "output_type": "execute_result",
          "data": {
            "text/plain": [
              "tensor(1, dtype=torch.uint8)"
            ]
          },
          "metadata": {
            "tags": []
          },
          "execution_count": 10
        }
      ]
    },
    {
      "cell_type": "markdown",
      "metadata": {
        "id": "gKSe9Ue92m-B"
      },
      "source": [
        "Fields have boolean values that check for (precise) identity"
      ]
    },
    {
      "cell_type": "code",
      "metadata": {
        "id": "V1tRFxX42mCp",
        "colab": {
          "base_uri": "https://localhost:8080/",
          "height": 34
        },
        "outputId": "73a5834e-e33c-4c47-85a5-0bf440f7be4c"
      },
      "source": [
        "f = torch.Field.rand(1, 2, 6 , 6)\n",
        "if f:\n",
        "    print('f is not the identity')\n",
        "else:\n",
        "    print('f is the identity!')"
      ],
      "execution_count": null,
      "outputs": [
        {
          "output_type": "stream",
          "text": [
            "f is not the identity\n"
          ],
          "name": "stdout"
        }
      ]
    },
    {
      "cell_type": "markdown",
      "metadata": {
        "id": "Xu_rKdQG4g2k"
      },
      "source": [
        "####Magnitude and distances"
      ]
    },
    {
      "cell_type": "code",
      "metadata": {
        "id": "nrniYanh4_hC",
        "colab": {
          "base_uri": "https://localhost:8080/",
          "height": 119
        },
        "outputId": "dfec6101-2880-4d82-8323-be8e3d585bca"
      },
      "source": [
        "f = torch.Field.rand(1, 2, 6 , 6)\n",
        "f.magnitude()"
      ],
      "execution_count": null,
      "outputs": [
        {
          "output_type": "execute_result",
          "data": {
            "text/plain": [
              "tensor([[[0.8019, 0.7230, 0.2706, 0.7953, 0.9146, 0.2297],\n",
              "         [1.1482, 0.4470, 1.1164, 0.2376, 0.7427, 0.5050],\n",
              "         [0.3619, 0.3278, 0.7129, 0.7578, 0.8918, 0.6528],\n",
              "         [0.9527, 0.6133, 0.6417, 0.6198, 0.7504, 0.8697],\n",
              "         [0.4110, 1.1378, 0.6720, 0.6748, 0.8898, 1.3846],\n",
              "         [0.6725, 0.9561, 0.7577, 0.8635, 0.5180, 0.5503]]])"
            ]
          },
          "metadata": {
            "tags": []
          },
          "execution_count": 12
        }
      ]
    },
    {
      "cell_type": "code",
      "metadata": {
        "id": "IaZv5YJy5FkU",
        "colab": {
          "base_uri": "https://localhost:8080/",
          "height": 119
        },
        "outputId": "64de8844-8c24-4fad-d03b-6820ddf60141"
      },
      "source": [
        "g = torch.Field.rand(1, 2, 6 , 6)\n",
        "g.distance(f)"
      ],
      "execution_count": null,
      "outputs": [
        {
          "output_type": "execute_result",
          "data": {
            "text/plain": [
              "tensor([[[1.0014, 0.3550, 0.4307, 0.2520, 0.7578, 0.7518],\n",
              "         [0.6943, 0.7265, 1.0736, 0.1127, 0.5842, 0.0745],\n",
              "         [0.2788, 0.5379, 0.1622, 0.4348, 0.6884, 0.3170],\n",
              "         [0.2681, 0.1958, 0.5593, 0.2028, 0.5503, 0.7973],\n",
              "         [0.7398, 0.2873, 0.3440, 0.5772, 0.2890, 1.0099],\n",
              "         [0.4965, 0.7657, 0.5442, 0.4131, 0.4095, 0.4288]]])"
            ]
          },
          "metadata": {
            "tags": []
          },
          "execution_count": 13
        }
      ]
    },
    {
      "cell_type": "markdown",
      "metadata": {
        "id": "TtS3Gl755Qlq"
      },
      "source": [
        "*Note: the results are normal tensors, and not fields, since they do not have a components dimension.*"
      ]
    },
    {
      "cell_type": "markdown",
      "metadata": {
        "id": "WcKqhFyw5doy"
      },
      "source": [
        "####Average vector and distribution profiling"
      ]
    },
    {
      "cell_type": "code",
      "metadata": {
        "id": "p9kGsdve5Nxb",
        "colab": {
          "base_uri": "https://localhost:8080/",
          "height": 34
        },
        "outputId": "c2c9840b-a223-4131-cf52-5f318d875ce3"
      },
      "source": [
        "f = torch.Field.rand(1, 2, 6 , 6)\n",
        "f.mean_vector()"
      ],
      "execution_count": null,
      "outputs": [
        {
          "output_type": "execute_result",
          "data": {
            "text/plain": [
              "tensor([[0.5154, 0.4276]])"
            ]
          },
          "metadata": {
            "tags": []
          },
          "execution_count": 14
        }
      ]
    },
    {
      "cell_type": "code",
      "metadata": {
        "id": "wyRgF-qq5oKA",
        "colab": {
          "base_uri": "https://localhost:8080/",
          "height": 34
        },
        "outputId": "d203b0a8-2d31-4605-c72a-3b00b207e02c"
      },
      "source": [
        "f.mean_finite_vector()"
      ],
      "execution_count": null,
      "outputs": [
        {
          "output_type": "execute_result",
          "data": {
            "text/plain": [
              "tensor([[0.5154, 0.4276]])"
            ]
          },
          "metadata": {
            "tags": []
          },
          "execution_count": 15
        }
      ]
    },
    {
      "cell_type": "code",
      "metadata": {
        "id": "-WebaGY-5rFf",
        "colab": {
          "base_uri": "https://localhost:8080/",
          "height": 34
        },
        "outputId": "908e6376-decc-4a06-a93e-ac332ffebb39"
      },
      "source": [
        "f.mean_nonzero_vector()"
      ],
      "execution_count": null,
      "outputs": [
        {
          "output_type": "execute_result",
          "data": {
            "text/plain": [
              "tensor([[0.5154, 0.4276]])"
            ]
          },
          "metadata": {
            "tags": []
          },
          "execution_count": 16
        }
      ]
    },
    {
      "cell_type": "code",
      "metadata": {
        "id": "LafFs24I5yde",
        "colab": {
          "base_uri": "https://localhost:8080/",
          "height": 34
        },
        "outputId": "4d90dafd-e9a3-454e-e605-fca4f03f5b97"
      },
      "source": [
        "f.min_vector()"
      ],
      "execution_count": null,
      "outputs": [
        {
          "output_type": "execute_result",
          "data": {
            "text/plain": [
              "tensor([[0.0512, 0.0258]])"
            ]
          },
          "metadata": {
            "tags": []
          },
          "execution_count": 17
        }
      ]
    },
    {
      "cell_type": "code",
      "metadata": {
        "id": "oEZEMkxa513x",
        "colab": {
          "base_uri": "https://localhost:8080/",
          "height": 34
        },
        "outputId": "dcb11804-863b-4617-9d8c-ccab2a04cbc1"
      },
      "source": [
        "f.max_vector()"
      ],
      "execution_count": null,
      "outputs": [
        {
          "output_type": "execute_result",
          "data": {
            "text/plain": [
              "tensor([[0.9951, 0.9737]])"
            ]
          },
          "metadata": {
            "tags": []
          },
          "execution_count": 18
        }
      ]
    },
    {
      "cell_type": "markdown",
      "metadata": {
        "id": "lqy4vHgS55FR"
      },
      "source": [
        "####Conversions to/from pixels"
      ]
    },
    {
      "cell_type": "code",
      "metadata": {
        "id": "gYN5Xnmx53bx",
        "colab": {
          "base_uri": "https://localhost:8080/",
          "height": 238
        },
        "outputId": "84c28820-07de-440d-b4e8-79fcda45ba79"
      },
      "source": [
        "f = torch.Field.rand(1, 2, 6 , 6)\n",
        "g = f.pixels()\n",
        "g"
      ],
      "execution_count": null,
      "outputs": [
        {
          "output_type": "execute_result",
          "data": {
            "text/plain": [
              "field([[[[0.8734, 1.5276, 1.0599, 2.6965, 1.0408, 0.7471],\n",
              "         [2.1809, 0.2141, 0.4542, 2.2142, 1.9484, 0.7198],\n",
              "         [0.0721, 1.6481, 2.1761, 0.9335, 2.0199, 2.1054],\n",
              "         [2.8072, 2.0415, 0.5351, 2.6910, 2.6325, 0.4162],\n",
              "         [1.9752, 1.9128, 2.3669, 2.3208, 1.4565, 2.0146],\n",
              "         [2.4540, 0.9549, 1.9191, 1.4978, 2.6551, 0.0122]],\n",
              "\n",
              "        [[0.2772, 1.0186, 0.6030, 2.4210, 0.2906, 2.7755],\n",
              "         [2.1740, 1.3625, 1.8887, 2.8032, 0.7457, 2.2213],\n",
              "         [0.1108, 2.1150, 2.6667, 0.7422, 2.3262, 0.8245],\n",
              "         [0.4221, 1.4204, 2.1206, 2.8936, 1.3549, 0.3767],\n",
              "         [1.1967, 1.4371, 2.9851, 2.4324, 0.6834, 2.7076],\n",
              "         [0.5710, 1.9261, 2.2253, 1.9598, 2.5083, 1.0923]]]])"
            ]
          },
          "metadata": {
            "tags": []
          },
          "execution_count": 19
        }
      ]
    },
    {
      "cell_type": "code",
      "metadata": {
        "id": "aNRtUgP_6Gfz",
        "colab": {
          "base_uri": "https://localhost:8080/",
          "height": 238
        },
        "outputId": "d2210a66-3f41-438a-cb7f-3b1bf25b09a7"
      },
      "source": [
        "g.from_pixels()"
      ],
      "execution_count": null,
      "outputs": [
        {
          "output_type": "execute_result",
          "data": {
            "text/plain": [
              "field([[[[0.2911, 0.5092, 0.3533, 0.8988, 0.3469, 0.2490],\n",
              "         [0.7270, 0.0714, 0.1514, 0.7381, 0.6495, 0.2399],\n",
              "         [0.0240, 0.5494, 0.7254, 0.3112, 0.6733, 0.7018],\n",
              "         [0.9357, 0.6805, 0.1784, 0.8970, 0.8775, 0.1387],\n",
              "         [0.6584, 0.6376, 0.7890, 0.7736, 0.4855, 0.6715],\n",
              "         [0.8180, 0.3183, 0.6397, 0.4993, 0.8850, 0.0041]],\n",
              "\n",
              "        [[0.0924, 0.3395, 0.2010, 0.8070, 0.0969, 0.9252],\n",
              "         [0.7247, 0.4542, 0.6296, 0.9344, 0.2486, 0.7404],\n",
              "         [0.0369, 0.7050, 0.8889, 0.2474, 0.7754, 0.2748],\n",
              "         [0.1407, 0.4735, 0.7069, 0.9645, 0.4516, 0.1256],\n",
              "         [0.3989, 0.4790, 0.9950, 0.8108, 0.2278, 0.9025],\n",
              "         [0.1903, 0.6420, 0.7418, 0.6533, 0.8361, 0.3641]]]])"
            ]
          },
          "metadata": {
            "tags": []
          },
          "execution_count": 20
        }
      ]
    },
    {
      "cell_type": "markdown",
      "metadata": {
        "id": "7W3axUGl6YNB"
      },
      "source": [
        "####Conversion to/from mappings"
      ]
    },
    {
      "cell_type": "markdown",
      "metadata": {
        "id": "aF6bWjh6GUy3"
      },
      "source": [
        "**Mappings** are the standard grid convention used by PyTorch, up to a small scaling factor, and are the original objects described in the [Spatial Transformer Networks](https://arxiv.org/abs/1506.02025) paper. Rather than encoding displacement, each vector encodes the location within the source image as a pair of floats between -1 and +1 (-1 representing the left and top edges, and +1 representing the right and bottom edges)."
      ]
    },
    {
      "cell_type": "code",
      "metadata": {
        "id": "qsVCIDqt6b-U",
        "colab": {
          "base_uri": "https://localhost:8080/",
          "height": 238
        },
        "outputId": "a875c3b6-a252-4f21-c665-0f0d52c7cb79"
      },
      "source": [
        "f = torch.Field.rand(1, 2, 6 , 6)\n",
        "g = f.mapping()\n",
        "g"
      ],
      "execution_count": null,
      "outputs": [
        {
          "output_type": "execute_result",
          "data": {
            "text/plain": [
              "field([[[[ 0.1536, -0.4046, -0.0609,  0.3806,  0.5888,  1.4115],\n",
              "         [-0.4228, -0.0236, -0.1064,  0.2203,  1.1587,  1.0403],\n",
              "         [-0.7343, -0.1034,  0.6930,  1.0637,  0.8484,  1.6104],\n",
              "         [-0.1476, -0.3769,  0.4370,  0.2014,  0.7465,  1.5846],\n",
              "         [-0.5591, -0.3152, -0.1395,  0.4484,  0.9920,  1.7245],\n",
              "         [-0.3349,  0.1752,  0.5624,  0.9665,  0.8011,  1.6109]],\n",
              "\n",
              "        [[-0.5245, -0.5072, -0.7233,  0.1441, -0.0686, -0.3979],\n",
              "         [-0.2964,  0.3392, -0.4765,  0.4441, -0.4532,  0.3457],\n",
              "         [ 0.1522,  0.5611,  0.1190,  0.0472, -0.1094,  0.4054],\n",
              "         [ 0.4704,  0.8118,  0.6644,  0.4992,  0.5663,  0.5217],\n",
              "         [ 0.6979,  0.9943,  0.7077,  1.4077,  0.8072,  1.0645],\n",
              "         [ 1.2628,  1.2109,  1.2994,  0.8834,  1.1818,  1.2014]]]])"
            ]
          },
          "metadata": {
            "tags": []
          },
          "execution_count": 21
        }
      ]
    },
    {
      "cell_type": "code",
      "metadata": {
        "id": "HNnXZzm66gis",
        "colab": {
          "base_uri": "https://localhost:8080/",
          "height": 238
        },
        "outputId": "f746e886-1c93-41a9-c8e7-2bf7c738fe09"
      },
      "source": [
        "g.from_mapping()"
      ],
      "execution_count": null,
      "outputs": [
        {
          "output_type": "execute_result",
          "data": {
            "text/plain": [
              "field([[[[0.9869, 0.0954, 0.1058, 0.2140, 0.0888, 0.5782],\n",
              "         [0.4106, 0.4764, 0.0603, 0.0536, 0.6587, 0.2070],\n",
              "         [0.0991, 0.3966, 0.8597, 0.8970, 0.3484, 0.7770],\n",
              "         [0.6857, 0.1231, 0.6037, 0.0347, 0.2465, 0.7513],\n",
              "         [0.2743, 0.1848, 0.0272, 0.2818, 0.4920, 0.8911],\n",
              "         [0.4984, 0.6752, 0.7291, 0.7999, 0.3011, 0.7776]],\n",
              "\n",
              "        [[0.3088, 0.3261, 0.1101, 0.9775, 0.7648, 0.4354],\n",
              "         [0.2036, 0.8392, 0.0235, 0.9441, 0.0468, 0.8457],\n",
              "         [0.3189, 0.7278, 0.2857, 0.2139, 0.0572, 0.5721],\n",
              "         [0.3037, 0.6451, 0.4978, 0.3325, 0.3997, 0.3550],\n",
              "         [0.1979, 0.4943, 0.2077, 0.9077, 0.3072, 0.5645],\n",
              "         [0.4295, 0.3776, 0.4661, 0.0500, 0.3484, 0.3681]]]])"
            ]
          },
          "metadata": {
            "tags": []
          },
          "execution_count": 22
        }
      ]
    },
    {
      "cell_type": "markdown",
      "metadata": {
        "id": "2ZeZwUprHMun"
      },
      "source": [
        "**Pixel mappings** are similar, except that each vector is in fact a `(j,i)` location from which to sample (from `0` to `size-1`).\n",
        "\n",
        "The default parameters assume that the image being warped has the same size as the field.\n",
        "\n",
        "*Note that the column component `(j)` comes first despite the field/mapping being indexed row-first as \\[Batch, Component, Row, Column\\]. This is admittedly confusing but kept to maintain alignment with PyTorch.*\n",
        "\n",
        "*Also note that this is **not** quite the same as just converting the mapping to pixel units, since the standard mapping goes from `-1` to `1`, whereas this goes from `0` to `size-1`*."
      ]
    },
    {
      "cell_type": "code",
      "metadata": {
        "id": "iSwhtcRE6iz1",
        "colab": {
          "base_uri": "https://localhost:8080/",
          "height": 238
        },
        "outputId": "e969a682-9b91-45cb-8f44-af21f9194fdb"
      },
      "source": [
        "h = f.pixel_mapping()\n",
        "h"
      ],
      "execution_count": null,
      "outputs": [
        {
          "output_type": "execute_result",
          "data": {
            "text/plain": [
              "field([[[[2.9608, 1.2862, 2.3174, 3.6419, 4.2664, 6.7345],\n",
              "         [1.2317, 2.4293, 2.1809, 3.1609, 5.9762, 5.6210],\n",
              "         [0.2972, 2.1899, 4.5791, 5.6910, 5.0451, 7.3311],\n",
              "         [2.0572, 1.3693, 3.8110, 3.1041, 4.7394, 7.2539],\n",
              "         [0.8228, 1.5543, 2.0815, 3.8453, 5.4760, 7.6734],\n",
              "         [1.4953, 3.0255, 4.1873, 5.3996, 4.9034, 7.3328]],\n",
              "\n",
              "        [[0.9264, 0.9784, 0.3302, 2.9324, 2.2943, 1.3063],\n",
              "         [1.6109, 3.5176, 1.0704, 3.8324, 1.1405, 3.5372],\n",
              "         [2.9567, 4.1833, 2.8571, 2.6417, 2.1717, 3.7163],\n",
              "         [3.9112, 4.9354, 4.4933, 3.9975, 4.1990, 4.0651],\n",
              "         [4.5936, 5.4829, 4.6230, 6.7231, 4.9217, 5.6935],\n",
              "         [6.2885, 6.1328, 6.3983, 5.1501, 6.0453, 6.1042]]]])"
            ]
          },
          "metadata": {
            "tags": []
          },
          "execution_count": 23
        }
      ]
    },
    {
      "cell_type": "code",
      "metadata": {
        "id": "mpBVoiLW6m42",
        "colab": {
          "base_uri": "https://localhost:8080/",
          "height": 238
        },
        "outputId": "d00b36d1-7051-49c6-bc95-f3bfa7b37f32"
      },
      "source": [
        "h.from_pixel_mapping()"
      ],
      "execution_count": null,
      "outputs": [
        {
          "output_type": "execute_result",
          "data": {
            "text/plain": [
              "field([[[[0.9869, 0.0954, 0.1058, 0.2140, 0.0888, 0.5782],\n",
              "         [0.4106, 0.4764, 0.0603, 0.0536, 0.6587, 0.2070],\n",
              "         [0.0991, 0.3966, 0.8597, 0.8970, 0.3484, 0.7770],\n",
              "         [0.6857, 0.1231, 0.6037, 0.0347, 0.2465, 0.7513],\n",
              "         [0.2743, 0.1848, 0.0272, 0.2818, 0.4920, 0.8911],\n",
              "         [0.4984, 0.6752, 0.7291, 0.7999, 0.3011, 0.7776]],\n",
              "\n",
              "        [[0.3088, 0.3261, 0.1101, 0.9775, 0.7648, 0.4354],\n",
              "         [0.2036, 0.8392, 0.0235, 0.9441, 0.0468, 0.8457],\n",
              "         [0.3189, 0.7278, 0.2857, 0.2139, 0.0572, 0.5721],\n",
              "         [0.3037, 0.6451, 0.4978, 0.3325, 0.3997, 0.3550],\n",
              "         [0.1979, 0.4943, 0.2077, 0.9077, 0.3072, 0.5645],\n",
              "         [0.4295, 0.3776, 0.4661, 0.0500, 0.3484, 0.3681]]]])"
            ]
          },
          "metadata": {
            "tags": []
          },
          "execution_count": 24
        }
      ]
    },
    {
      "cell_type": "markdown",
      "metadata": {
        "id": "ZVKP005G6tao"
      },
      "source": [
        "####Multicompose"
      ]
    },
    {
      "cell_type": "code",
      "metadata": {
        "id": "MwPwj8tU6v2X",
        "colab": {
          "base_uri": "https://localhost:8080/",
          "height": 238
        },
        "outputId": "47f08181-1c5b-4c30-bcbe-dc8aafa3fbc8"
      },
      "source": [
        "f1 = torch.Field.rand(1, 2, 6 , 6)\n",
        "f2 = torch.Field.rand(1, 2, 6 , 6)\n",
        "f3 = torch.Field.rand(1, 2, 6 , 6)\n",
        "f4 = torch.Field.rand(1, 2, 6 , 6)\n",
        "\n",
        "(f1)(f2)(f3)(f4)  # compose all four displacement fields"
      ],
      "execution_count": null,
      "outputs": [
        {
          "output_type": "execute_result",
          "data": {
            "text/plain": [
              "field([[[[1.3233, 1.9033, 1.7631, 2.0456, 1.2816, 2.4209],\n",
              "         [2.2978, 2.3561, 1.9668, 2.2017, 1.8812, 2.3823],\n",
              "         [1.9220, 2.1764, 2.3037, 2.4292, 2.5844, 2.5936],\n",
              "         [2.7002, 2.6364, 2.8315, 2.6297, 2.0066, 1.8580],\n",
              "         [2.9706, 2.2528, 2.4908, 2.5441, 2.4420, 2.5648],\n",
              "         [2.5788, 2.6363, 2.3029, 1.9700, 2.2258, 2.2732]],\n",
              "\n",
              "        [[1.7125, 1.9680, 1.5660, 1.5938, 1.7859, 1.5721],\n",
              "         [2.2898, 1.6964, 2.6297, 2.4231, 1.3252, 1.6093],\n",
              "         [2.4116, 2.2573, 2.1050, 1.2708, 1.2183, 1.4269],\n",
              "         [2.2713, 1.3419, 1.3043, 1.4956, 1.7935, 0.8850],\n",
              "         [1.5710, 1.5203, 2.1775, 1.2504, 1.9502, 1.9349],\n",
              "         [2.3645, 0.7228, 1.1805, 1.2560, 1.7281, 1.1696]]]])"
            ]
          },
          "metadata": {
            "tags": []
          },
          "execution_count": 25
        }
      ]
    },
    {
      "cell_type": "code",
      "metadata": {
        "id": "TIps2PMh7BX-",
        "colab": {
          "base_uri": "https://localhost:8080/",
          "height": 238
        },
        "outputId": "fce923ab-2687-4edd-d5f4-91a42393387a"
      },
      "source": [
        "torch.Field.multicompose(f1, f2, f3, f4)  # same thing\n",
        "f1.multicompose(f2, f3, f4)  # same thing"
      ],
      "execution_count": null,
      "outputs": [
        {
          "output_type": "execute_result",
          "data": {
            "text/plain": [
              "field([[[[1.3233, 1.9033, 1.7631, 2.0456, 1.2816, 2.4209],\n",
              "         [2.2978, 2.3561, 1.9668, 2.2017, 1.8812, 2.3823],\n",
              "         [1.9220, 2.1764, 2.3037, 2.4292, 2.5844, 2.5936],\n",
              "         [2.7002, 2.6364, 2.8315, 2.6297, 2.0066, 1.8580],\n",
              "         [2.9706, 2.2528, 2.4908, 2.5441, 2.4420, 2.5648],\n",
              "         [2.5788, 2.6363, 2.3029, 1.9700, 2.2258, 2.2732]],\n",
              "\n",
              "        [[1.7125, 1.9680, 1.5660, 1.5938, 1.7859, 1.5721],\n",
              "         [2.2898, 1.6964, 2.6297, 2.4231, 1.3252, 1.6093],\n",
              "         [2.4116, 2.2573, 2.1050, 1.2708, 1.2183, 1.4269],\n",
              "         [2.2713, 1.3419, 1.3043, 1.4956, 1.7935, 0.8850],\n",
              "         [1.5710, 1.5203, 2.1775, 1.2504, 1.9502, 1.9349],\n",
              "         [2.3645, 0.7228, 1.1805, 1.2560, 1.7281, 1.1696]]]])"
            ]
          },
          "metadata": {
            "tags": []
          },
          "execution_count": 26
        }
      ]
    },
    {
      "cell_type": "markdown",
      "metadata": {
        "id": "Otv3OebP7W6A"
      },
      "source": [
        "####Fourier transforms"
      ]
    },
    {
      "cell_type": "code",
      "metadata": {
        "id": "_tcQn0KT7IB4",
        "colab": {
          "base_uri": "https://localhost:8080/",
          "height": 442
        },
        "outputId": "52eefe23-85fd-4741-e87f-8fe532b4c41d"
      },
      "source": [
        "f = torch.Field.rand(1, 2, 6 , 6)\n",
        "g = f.fft(2)\n",
        "g"
      ],
      "execution_count": null,
      "outputs": [
        {
          "output_type": "execute_result",
          "data": {
            "text/plain": [
              "field([[[[ 1.6999e+01,  1.6940e+00,  6.7431e-01,  1.2433e+00,  1.2555e-01,\n",
              "          -2.1362e+00],\n",
              "         [ 2.0605e+00, -1.5463e+00,  1.3244e+00,  1.2407e+00,  5.7135e+00,\n",
              "          -6.9260e-01],\n",
              "         [ 1.5375e+00,  4.3289e-01, -4.7261e-01, -1.3465e+00,  3.4822e-01,\n",
              "          -5.2565e-01],\n",
              "         [-1.9122e+00, -9.6668e-01,  2.6667e+00, -4.7167e-01,  1.1744e+00,\n",
              "           6.2981e-01],\n",
              "         [-1.0331e+00,  2.1081e+00,  2.8821e+00,  7.6427e-01,  9.5766e-01,\n",
              "          -1.7564e+00],\n",
              "         [-1.2132e-02,  1.4456e+00,  1.8200e+00, -9.5822e-01, -2.0746e+00,\n",
              "           5.0335e-01]],\n",
              "\n",
              "        [[ 1.7076e+01,  1.5311e+00,  1.3499e+00,  2.5339e+00,  5.6697e-01,\n",
              "           2.6728e-01],\n",
              "         [-4.5039e-01,  1.8092e-01,  1.0753e+00, -7.2238e-01, -9.3665e-01,\n",
              "           7.1300e-01],\n",
              "         [ 4.2434e-01,  7.0110e-01, -7.9253e-01,  1.2148e+00, -1.7811e+00,\n",
              "           1.4434e-02],\n",
              "         [ 1.8392e+00, -6.0287e-01, -2.8157e+00, -2.3246e-01,  9.3998e-01,\n",
              "          -1.9266e+00],\n",
              "         [ 8.5264e-01,  4.1343e+00, -6.1595e+00,  1.2980e+00, -5.9131e-01,\n",
              "          -3.0114e+00],\n",
              "         [-1.8121e+00, -3.6482e+00,  6.8533e-03,  2.9967e+00,  9.0386e-01,\n",
              "           1.7827e-01]]]])"
            ]
          },
          "metadata": {
            "tags": []
          },
          "execution_count": 27
        }
      ]
    },
    {
      "cell_type": "code",
      "metadata": {
        "id": "SYvdSZFp7nSe",
        "colab": {
          "base_uri": "https://localhost:8080/",
          "height": 238
        },
        "outputId": "c3525d05-8c5a-4a1b-986f-2ea4d0f2e5a3"
      },
      "source": [
        "g.ifft(2)"
      ],
      "execution_count": null,
      "outputs": [
        {
          "output_type": "execute_result",
          "data": {
            "text/plain": [
              "field([[[[0.9011, 0.2644, 0.0034, 0.9199, 0.6047, 0.2463],\n",
              "         [0.4459, 0.6803, 0.9841, 0.3551, 0.5962, 0.0841],\n",
              "         [0.4198, 0.2101, 0.2817, 0.4656, 0.6593, 0.0068],\n",
              "         [0.3487, 0.2858, 0.2651, 0.2768, 0.9044, 0.8138],\n",
              "         [0.3224, 0.5204, 0.4742, 0.2590, 0.2978, 0.6862],\n",
              "         [0.6621, 0.2660, 0.9326, 0.5564, 0.0175, 0.9806]],\n",
              "\n",
              "        [[0.4254, 0.6307, 0.9378, 0.1132, 0.7216, 0.1595],\n",
              "         [0.8384, 0.1195, 0.8016, 0.7922, 0.0443, 0.3187],\n",
              "         [0.9150, 0.0917, 0.1586, 0.9130, 0.8112, 0.2733],\n",
              "         [0.6651, 0.9111, 0.8037, 0.0124, 0.3463, 0.3907],\n",
              "         [0.3701, 0.9383, 0.7143, 0.4226, 0.2501, 0.6110],\n",
              "         [0.6735, 0.3544, 0.0163, 0.1900, 0.3116, 0.0285]]]])"
            ]
          },
          "metadata": {
            "tags": []
          },
          "execution_count": 28
        }
      ]
    }
  ]
}